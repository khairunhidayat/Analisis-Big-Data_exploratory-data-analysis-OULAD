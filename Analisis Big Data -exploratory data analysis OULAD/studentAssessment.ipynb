{
  "nbformat": 4,
  "nbformat_minor": 0,
  "metadata": {
    "colab": {
      "provenance": []
    },
    "kernelspec": {
      "name": "python3",
      "display_name": "Python 3"
    },
    "language_info": {
      "name": "python"
    }
  },
  "cells": [
    {
      "cell_type": "code",
      "execution_count": 2,
      "metadata": {
        "id": "lDxxeY6mm4tv"
      },
      "outputs": [],
      "source": [
        "import pandas as pd\n",
        "import matplotlib.pyplot as plt\n",
        "import seaborn as sns"
      ]
    },
    {
      "cell_type": "code",
      "source": [
        "# Menghubungkan antara colab dengan akun gooogle drive penyimpanan file\n",
        "from google.colab import drive\n",
        "drive.mount('/content/drive')"
      ],
      "metadata": {
        "colab": {
          "base_uri": "https://localhost:8080/"
        },
        "id": "Wldoi-28nNAi",
        "outputId": "77698755-f5ff-424a-beed-c929870094a3"
      },
      "execution_count": 3,
      "outputs": [
        {
          "output_type": "stream",
          "name": "stdout",
          "text": [
            "Mounted at /content/drive\n"
          ]
        }
      ]
    },
    {
      "cell_type": "code",
      "source": [
        "# Membaca dataset dari file CSV\n",
        "df = pd.read_csv('/content/drive/MyDrive/Analisis Big Data/studentAssessment.csv') #Fungsi ini mengambil satu argumen, yaitu path (lokasi) file CSV yang ingin dibaca.\n",
        "df"
      ],
      "metadata": {
        "colab": {
          "base_uri": "https://localhost:8080/",
          "height": 424
        },
        "id": "2YaTtgfNnXjR",
        "outputId": "5feea936-db27-4078-f394-b98024b2809b"
      },
      "execution_count": 4,
      "outputs": [
        {
          "output_type": "execute_result",
          "data": {
            "text/plain": [
              "        id_assessment  id_student  date_submitted  is_banked  score\n",
              "0                1752       11391              18          0   78.0\n",
              "1                1752       28400              22          0   70.0\n",
              "2                1752       31604              17          0   72.0\n",
              "3                1752       32885              26          0   69.0\n",
              "4                1752       38053              19          0   79.0\n",
              "...               ...         ...             ...        ...    ...\n",
              "173907          37443      527538             227          0   60.0\n",
              "173908          37443      534672             229          0  100.0\n",
              "173909          37443      546286             215          0   80.0\n",
              "173910          37443      546724             230          0  100.0\n",
              "173911          37443      558486             224          0   80.0\n",
              "\n",
              "[173912 rows x 5 columns]"
            ],
            "text/html": [
              "\n",
              "  <div id=\"df-e90c9c3b-82c8-42e6-86c4-2a0a06196085\" class=\"colab-df-container\">\n",
              "    <div>\n",
              "<style scoped>\n",
              "    .dataframe tbody tr th:only-of-type {\n",
              "        vertical-align: middle;\n",
              "    }\n",
              "\n",
              "    .dataframe tbody tr th {\n",
              "        vertical-align: top;\n",
              "    }\n",
              "\n",
              "    .dataframe thead th {\n",
              "        text-align: right;\n",
              "    }\n",
              "</style>\n",
              "<table border=\"1\" class=\"dataframe\">\n",
              "  <thead>\n",
              "    <tr style=\"text-align: right;\">\n",
              "      <th></th>\n",
              "      <th>id_assessment</th>\n",
              "      <th>id_student</th>\n",
              "      <th>date_submitted</th>\n",
              "      <th>is_banked</th>\n",
              "      <th>score</th>\n",
              "    </tr>\n",
              "  </thead>\n",
              "  <tbody>\n",
              "    <tr>\n",
              "      <th>0</th>\n",
              "      <td>1752</td>\n",
              "      <td>11391</td>\n",
              "      <td>18</td>\n",
              "      <td>0</td>\n",
              "      <td>78.0</td>\n",
              "    </tr>\n",
              "    <tr>\n",
              "      <th>1</th>\n",
              "      <td>1752</td>\n",
              "      <td>28400</td>\n",
              "      <td>22</td>\n",
              "      <td>0</td>\n",
              "      <td>70.0</td>\n",
              "    </tr>\n",
              "    <tr>\n",
              "      <th>2</th>\n",
              "      <td>1752</td>\n",
              "      <td>31604</td>\n",
              "      <td>17</td>\n",
              "      <td>0</td>\n",
              "      <td>72.0</td>\n",
              "    </tr>\n",
              "    <tr>\n",
              "      <th>3</th>\n",
              "      <td>1752</td>\n",
              "      <td>32885</td>\n",
              "      <td>26</td>\n",
              "      <td>0</td>\n",
              "      <td>69.0</td>\n",
              "    </tr>\n",
              "    <tr>\n",
              "      <th>4</th>\n",
              "      <td>1752</td>\n",
              "      <td>38053</td>\n",
              "      <td>19</td>\n",
              "      <td>0</td>\n",
              "      <td>79.0</td>\n",
              "    </tr>\n",
              "    <tr>\n",
              "      <th>...</th>\n",
              "      <td>...</td>\n",
              "      <td>...</td>\n",
              "      <td>...</td>\n",
              "      <td>...</td>\n",
              "      <td>...</td>\n",
              "    </tr>\n",
              "    <tr>\n",
              "      <th>173907</th>\n",
              "      <td>37443</td>\n",
              "      <td>527538</td>\n",
              "      <td>227</td>\n",
              "      <td>0</td>\n",
              "      <td>60.0</td>\n",
              "    </tr>\n",
              "    <tr>\n",
              "      <th>173908</th>\n",
              "      <td>37443</td>\n",
              "      <td>534672</td>\n",
              "      <td>229</td>\n",
              "      <td>0</td>\n",
              "      <td>100.0</td>\n",
              "    </tr>\n",
              "    <tr>\n",
              "      <th>173909</th>\n",
              "      <td>37443</td>\n",
              "      <td>546286</td>\n",
              "      <td>215</td>\n",
              "      <td>0</td>\n",
              "      <td>80.0</td>\n",
              "    </tr>\n",
              "    <tr>\n",
              "      <th>173910</th>\n",
              "      <td>37443</td>\n",
              "      <td>546724</td>\n",
              "      <td>230</td>\n",
              "      <td>0</td>\n",
              "      <td>100.0</td>\n",
              "    </tr>\n",
              "    <tr>\n",
              "      <th>173911</th>\n",
              "      <td>37443</td>\n",
              "      <td>558486</td>\n",
              "      <td>224</td>\n",
              "      <td>0</td>\n",
              "      <td>80.0</td>\n",
              "    </tr>\n",
              "  </tbody>\n",
              "</table>\n",
              "<p>173912 rows × 5 columns</p>\n",
              "</div>\n",
              "    <div class=\"colab-df-buttons\">\n",
              "\n",
              "  <div class=\"colab-df-container\">\n",
              "    <button class=\"colab-df-convert\" onclick=\"convertToInteractive('df-e90c9c3b-82c8-42e6-86c4-2a0a06196085')\"\n",
              "            title=\"Convert this dataframe to an interactive table.\"\n",
              "            style=\"display:none;\">\n",
              "\n",
              "  <svg xmlns=\"http://www.w3.org/2000/svg\" height=\"24px\" viewBox=\"0 -960 960 960\">\n",
              "    <path d=\"M120-120v-720h720v720H120Zm60-500h600v-160H180v160Zm220 220h160v-160H400v160Zm0 220h160v-160H400v160ZM180-400h160v-160H180v160Zm440 0h160v-160H620v160ZM180-180h160v-160H180v160Zm440 0h160v-160H620v160Z\"/>\n",
              "  </svg>\n",
              "    </button>\n",
              "\n",
              "  <style>\n",
              "    .colab-df-container {\n",
              "      display:flex;\n",
              "      gap: 12px;\n",
              "    }\n",
              "\n",
              "    .colab-df-convert {\n",
              "      background-color: #E8F0FE;\n",
              "      border: none;\n",
              "      border-radius: 50%;\n",
              "      cursor: pointer;\n",
              "      display: none;\n",
              "      fill: #1967D2;\n",
              "      height: 32px;\n",
              "      padding: 0 0 0 0;\n",
              "      width: 32px;\n",
              "    }\n",
              "\n",
              "    .colab-df-convert:hover {\n",
              "      background-color: #E2EBFA;\n",
              "      box-shadow: 0px 1px 2px rgba(60, 64, 67, 0.3), 0px 1px 3px 1px rgba(60, 64, 67, 0.15);\n",
              "      fill: #174EA6;\n",
              "    }\n",
              "\n",
              "    .colab-df-buttons div {\n",
              "      margin-bottom: 4px;\n",
              "    }\n",
              "\n",
              "    [theme=dark] .colab-df-convert {\n",
              "      background-color: #3B4455;\n",
              "      fill: #D2E3FC;\n",
              "    }\n",
              "\n",
              "    [theme=dark] .colab-df-convert:hover {\n",
              "      background-color: #434B5C;\n",
              "      box-shadow: 0px 1px 3px 1px rgba(0, 0, 0, 0.15);\n",
              "      filter: drop-shadow(0px 1px 2px rgba(0, 0, 0, 0.3));\n",
              "      fill: #FFFFFF;\n",
              "    }\n",
              "  </style>\n",
              "\n",
              "    <script>\n",
              "      const buttonEl =\n",
              "        document.querySelector('#df-e90c9c3b-82c8-42e6-86c4-2a0a06196085 button.colab-df-convert');\n",
              "      buttonEl.style.display =\n",
              "        google.colab.kernel.accessAllowed ? 'block' : 'none';\n",
              "\n",
              "      async function convertToInteractive(key) {\n",
              "        const element = document.querySelector('#df-e90c9c3b-82c8-42e6-86c4-2a0a06196085');\n",
              "        const dataTable =\n",
              "          await google.colab.kernel.invokeFunction('convertToInteractive',\n",
              "                                                    [key], {});\n",
              "        if (!dataTable) return;\n",
              "\n",
              "        const docLinkHtml = 'Like what you see? Visit the ' +\n",
              "          '<a target=\"_blank\" href=https://colab.research.google.com/notebooks/data_table.ipynb>data table notebook</a>'\n",
              "          + ' to learn more about interactive tables.';\n",
              "        element.innerHTML = '';\n",
              "        dataTable['output_type'] = 'display_data';\n",
              "        await google.colab.output.renderOutput(dataTable, element);\n",
              "        const docLink = document.createElement('div');\n",
              "        docLink.innerHTML = docLinkHtml;\n",
              "        element.appendChild(docLink);\n",
              "      }\n",
              "    </script>\n",
              "  </div>\n",
              "\n",
              "\n",
              "<div id=\"df-73b6996b-4e9a-44b5-9535-2bf75e156d02\">\n",
              "  <button class=\"colab-df-quickchart\" onclick=\"quickchart('df-73b6996b-4e9a-44b5-9535-2bf75e156d02')\"\n",
              "            title=\"Suggest charts.\"\n",
              "            style=\"display:none;\">\n",
              "\n",
              "<svg xmlns=\"http://www.w3.org/2000/svg\" height=\"24px\"viewBox=\"0 0 24 24\"\n",
              "     width=\"24px\">\n",
              "    <g>\n",
              "        <path d=\"M19 3H5c-1.1 0-2 .9-2 2v14c0 1.1.9 2 2 2h14c1.1 0 2-.9 2-2V5c0-1.1-.9-2-2-2zM9 17H7v-7h2v7zm4 0h-2V7h2v10zm4 0h-2v-4h2v4z\"/>\n",
              "    </g>\n",
              "</svg>\n",
              "  </button>\n",
              "\n",
              "<style>\n",
              "  .colab-df-quickchart {\n",
              "      --bg-color: #E8F0FE;\n",
              "      --fill-color: #1967D2;\n",
              "      --hover-bg-color: #E2EBFA;\n",
              "      --hover-fill-color: #174EA6;\n",
              "      --disabled-fill-color: #AAA;\n",
              "      --disabled-bg-color: #DDD;\n",
              "  }\n",
              "\n",
              "  [theme=dark] .colab-df-quickchart {\n",
              "      --bg-color: #3B4455;\n",
              "      --fill-color: #D2E3FC;\n",
              "      --hover-bg-color: #434B5C;\n",
              "      --hover-fill-color: #FFFFFF;\n",
              "      --disabled-bg-color: #3B4455;\n",
              "      --disabled-fill-color: #666;\n",
              "  }\n",
              "\n",
              "  .colab-df-quickchart {\n",
              "    background-color: var(--bg-color);\n",
              "    border: none;\n",
              "    border-radius: 50%;\n",
              "    cursor: pointer;\n",
              "    display: none;\n",
              "    fill: var(--fill-color);\n",
              "    height: 32px;\n",
              "    padding: 0;\n",
              "    width: 32px;\n",
              "  }\n",
              "\n",
              "  .colab-df-quickchart:hover {\n",
              "    background-color: var(--hover-bg-color);\n",
              "    box-shadow: 0 1px 2px rgba(60, 64, 67, 0.3), 0 1px 3px 1px rgba(60, 64, 67, 0.15);\n",
              "    fill: var(--button-hover-fill-color);\n",
              "  }\n",
              "\n",
              "  .colab-df-quickchart-complete:disabled,\n",
              "  .colab-df-quickchart-complete:disabled:hover {\n",
              "    background-color: var(--disabled-bg-color);\n",
              "    fill: var(--disabled-fill-color);\n",
              "    box-shadow: none;\n",
              "  }\n",
              "\n",
              "  .colab-df-spinner {\n",
              "    border: 2px solid var(--fill-color);\n",
              "    border-color: transparent;\n",
              "    border-bottom-color: var(--fill-color);\n",
              "    animation:\n",
              "      spin 1s steps(1) infinite;\n",
              "  }\n",
              "\n",
              "  @keyframes spin {\n",
              "    0% {\n",
              "      border-color: transparent;\n",
              "      border-bottom-color: var(--fill-color);\n",
              "      border-left-color: var(--fill-color);\n",
              "    }\n",
              "    20% {\n",
              "      border-color: transparent;\n",
              "      border-left-color: var(--fill-color);\n",
              "      border-top-color: var(--fill-color);\n",
              "    }\n",
              "    30% {\n",
              "      border-color: transparent;\n",
              "      border-left-color: var(--fill-color);\n",
              "      border-top-color: var(--fill-color);\n",
              "      border-right-color: var(--fill-color);\n",
              "    }\n",
              "    40% {\n",
              "      border-color: transparent;\n",
              "      border-right-color: var(--fill-color);\n",
              "      border-top-color: var(--fill-color);\n",
              "    }\n",
              "    60% {\n",
              "      border-color: transparent;\n",
              "      border-right-color: var(--fill-color);\n",
              "    }\n",
              "    80% {\n",
              "      border-color: transparent;\n",
              "      border-right-color: var(--fill-color);\n",
              "      border-bottom-color: var(--fill-color);\n",
              "    }\n",
              "    90% {\n",
              "      border-color: transparent;\n",
              "      border-bottom-color: var(--fill-color);\n",
              "    }\n",
              "  }\n",
              "</style>\n",
              "\n",
              "  <script>\n",
              "    async function quickchart(key) {\n",
              "      const quickchartButtonEl =\n",
              "        document.querySelector('#' + key + ' button');\n",
              "      quickchartButtonEl.disabled = true;  // To prevent multiple clicks.\n",
              "      quickchartButtonEl.classList.add('colab-df-spinner');\n",
              "      try {\n",
              "        const charts = await google.colab.kernel.invokeFunction(\n",
              "            'suggestCharts', [key], {});\n",
              "      } catch (error) {\n",
              "        console.error('Error during call to suggestCharts:', error);\n",
              "      }\n",
              "      quickchartButtonEl.classList.remove('colab-df-spinner');\n",
              "      quickchartButtonEl.classList.add('colab-df-quickchart-complete');\n",
              "    }\n",
              "    (() => {\n",
              "      let quickchartButtonEl =\n",
              "        document.querySelector('#df-73b6996b-4e9a-44b5-9535-2bf75e156d02 button');\n",
              "      quickchartButtonEl.style.display =\n",
              "        google.colab.kernel.accessAllowed ? 'block' : 'none';\n",
              "    })();\n",
              "  </script>\n",
              "</div>\n",
              "    </div>\n",
              "  </div>\n"
            ]
          },
          "metadata": {},
          "execution_count": 4
        }
      ]
    },
    {
      "cell_type": "code",
      "source": [
        "# Melihat informasi dasar tentang dataset\n",
        "print(\"Informasi Dataset:\")\n",
        "print(df.info())\n",
        "\n",
        "# Menampilkan 5 baris pertama dari dataset\n",
        "print(\"\\n5 Baris Pertama Dataset:\")\n",
        "print(df.head())\n",
        "\n",
        "# Statistik deskriptif untuk kolom numerik\n",
        "print(\"\\nStatistik Deskriptif:\")\n",
        "print(df.describe())\n",
        "\n",
        "# Melihat jumlah missing values pada setiap kolom\n",
        "print(\"\\nJumlah Missing Values pada Setiap Kolom:\")\n",
        "print(df.isnull().sum())"
      ],
      "metadata": {
        "colab": {
          "base_uri": "https://localhost:8080/"
        },
        "id": "r3R6afhLnfrm",
        "outputId": "ae0632e1-d63d-4a5d-a253-242a269abbf5"
      },
      "execution_count": 5,
      "outputs": [
        {
          "output_type": "stream",
          "name": "stdout",
          "text": [
            "Informasi Dataset:\n",
            "<class 'pandas.core.frame.DataFrame'>\n",
            "RangeIndex: 173912 entries, 0 to 173911\n",
            "Data columns (total 5 columns):\n",
            " #   Column          Non-Null Count   Dtype  \n",
            "---  ------          --------------   -----  \n",
            " 0   id_assessment   173912 non-null  int64  \n",
            " 1   id_student      173912 non-null  int64  \n",
            " 2   date_submitted  173912 non-null  int64  \n",
            " 3   is_banked       173912 non-null  int64  \n",
            " 4   score           173739 non-null  float64\n",
            "dtypes: float64(1), int64(4)\n",
            "memory usage: 6.6 MB\n",
            "None\n",
            "\n",
            "5 Baris Pertama Dataset:\n",
            "   id_assessment  id_student  date_submitted  is_banked  score\n",
            "0           1752       11391              18          0   78.0\n",
            "1           1752       28400              22          0   70.0\n",
            "2           1752       31604              17          0   72.0\n",
            "3           1752       32885              26          0   69.0\n",
            "4           1752       38053              19          0   79.0\n",
            "\n",
            "Statistik Deskriptif:\n",
            "       id_assessment    id_student  date_submitted      is_banked  \\\n",
            "count  173912.000000  1.739120e+05   173912.000000  173912.000000   \n",
            "mean    26553.803556  7.051507e+05      116.032942       0.010977   \n",
            "std      8829.784254  5.523952e+05       71.484148       0.104194   \n",
            "min      1752.000000  6.516000e+03      -11.000000       0.000000   \n",
            "25%     15022.000000  5.044290e+05       51.000000       0.000000   \n",
            "50%     25359.000000  5.852080e+05      116.000000       0.000000   \n",
            "75%     34883.000000  6.344980e+05      173.000000       0.000000   \n",
            "max     37443.000000  2.698588e+06      608.000000       1.000000   \n",
            "\n",
            "               score  \n",
            "count  173739.000000  \n",
            "mean       75.799573  \n",
            "std        18.798107  \n",
            "min         0.000000  \n",
            "25%        65.000000  \n",
            "50%        80.000000  \n",
            "75%        90.000000  \n",
            "max       100.000000  \n",
            "\n",
            "Jumlah Missing Values pada Setiap Kolom:\n",
            "id_assessment       0\n",
            "id_student          0\n",
            "date_submitted      0\n",
            "is_banked           0\n",
            "score             173\n",
            "dtype: int64\n"
          ]
        }
      ]
    },
    {
      "cell_type": "code",
      "source": [
        "# Menampilkan jumlah missing values pada setiap kolom\n",
        "missing_data = df.isnull().sum()\n",
        "\n",
        "# Menampilkan kolom-kolom dengan missing values (jika ada)\n",
        "columns_with_missing_data = missing_data[missing_data > 0]\n",
        "print(\"Kolom dengan Missing Values:\")\n",
        "print(columns_with_missing_data)\n",
        "\n",
        "# Menampilkan jumlah total missing values dalam dataset\n",
        "total_missing_values = missing_data.sum()\n",
        "print(\"\\nTotal Missing Values dalam Dataset:\", total_missing_values)"
      ],
      "metadata": {
        "colab": {
          "base_uri": "https://localhost:8080/"
        },
        "id": "3arRJoeMnuZ0",
        "outputId": "b3c03862-2235-4814-8be9-6941d6d3ed18"
      },
      "execution_count": 6,
      "outputs": [
        {
          "output_type": "stream",
          "name": "stdout",
          "text": [
            "Kolom dengan Missing Values:\n",
            "score    173\n",
            "dtype: int64\n",
            "\n",
            "Total Missing Values dalam Dataset: 173\n"
          ]
        }
      ]
    },
    {
      "cell_type": "code",
      "source": [
        "# Menghapus baris yang mengandung nilai-nilai yang hilang (missing values) dari dataframe\n",
        "# (inplace=True) mengontrol perubahan yang diterapkan secara langsung pada dataframe yang ada\n",
        "df.dropna(inplace=True)"
      ],
      "metadata": {
        "id": "wOKyF2q3sm_D"
      },
      "execution_count": 7,
      "outputs": []
    },
    {
      "cell_type": "code",
      "source": [
        "# Menampilkan jumlah missing values pada setiap kolom\n",
        "missing_data = df.isnull().sum()\n",
        "\n",
        "# Menampilkan kolom-kolom dengan missing values (jika ada)\n",
        "columns_with_missing_data = missing_data[missing_data > 0]\n",
        "print(\"Kolom dengan Missing Values:\")\n",
        "print(columns_with_missing_data)\n",
        "\n",
        "# Menampilkan jumlah total missing values dalam dataset\n",
        "total_missing_values = missing_data.sum()\n",
        "print(\"\\nTotal Missing Values dalam Dataset:\", total_missing_values)"
      ],
      "metadata": {
        "colab": {
          "base_uri": "https://localhost:8080/"
        },
        "id": "9as4jLrvR0JP",
        "outputId": "e33c05a6-5d75-447d-81f5-201753b40f9d"
      },
      "execution_count": 8,
      "outputs": [
        {
          "output_type": "stream",
          "name": "stdout",
          "text": [
            "Kolom dengan Missing Values:\n",
            "Series([], dtype: int64)\n",
            "\n",
            "Total Missing Values dalam Dataset: 0\n"
          ]
        }
      ]
    },
    {
      "cell_type": "code",
      "source": [
        "# Visualisasi distribusi data untuk kolom 'score'\n",
        "plt.figure(figsize=(8, 6))\n",
        "sns.histplot(df['score'], kde=True, bins=10)\n",
        "plt.title('Distribusi Skor')\n",
        "plt.xlabel('Skor')\n",
        "plt.ylabel('Frekuensi')\n",
        "plt.show()"
      ],
      "metadata": {
        "colab": {
          "base_uri": "https://localhost:8080/",
          "height": 564
        },
        "id": "P4bgYI52nyq7",
        "outputId": "f1611d16-8159-45d0-e65c-5f342acc3d71"
      },
      "execution_count": 9,
      "outputs": [
        {
          "output_type": "display_data",
          "data": {
            "text/plain": [
              "<Figure size 800x600 with 1 Axes>"
            ],
            "image/png": "[encoded data removed]"
          },
          "metadata": {}
        }
      ]
    },
    {
      "cell_type": "markdown",
      "source": [
        "visualisasi diatas menampilkan jumlah skor dengan frekuensi tertinggi berada di 80"
      ],
      "metadata": {
        "id": "Y3toMLWMz3qO"
      }
    },
    {
      "cell_type": "code",
      "source": [
        "# visualisasi Boxplot Skor berdasarkan is_banked\n",
        "plt.figure(figsize=(8, 6))\n",
        "sns.boxplot(x='is_banked', y='score', data=df)\n",
        "plt.title('Boxplot Skor berdasarkan is_banked')\n",
        "plt.xlabel('is_banked')\n",
        "plt.ylabel('Skor')\n",
        "plt.show()"
      ],
      "metadata": {
        "colab": {
          "base_uri": "https://localhost:8080/",
          "height": 564
        },
        "id": "EgToDFeNoUJz",
        "outputId": "8386ce10-9f23-4de2-a6f7-87a5747d567e"
      },
      "execution_count": 10,
      "outputs": [
        {
          "output_type": "display_data",
          "data": {
            "text/plain": [
              "<Figure size 800x600 with 1 Axes>"
            ],
            "image/png": "[encoded data removed]"
          },
          "metadata": {}
        }
      ]
    },
    {
      "cell_type": "markdown",
      "source": [
        "Visualisasi diatas menampilkan jumlah skor tertinggi yaitu boxplot berwarna biru karena lebih tinggi dari pada yang warna oren"
      ],
      "metadata": {
        "id": "cyog7FKc0Xnu"
      }
    }
  ]
}